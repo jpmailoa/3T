{
 "cells": [
  {
   "cell_type": "code",
   "execution_count": 1,
   "id": "ea65db47-69c9-4bef-91d7-9063b4cb45c7",
   "metadata": {},
   "outputs": [],
   "source": [
    "import os, sys\n",
    "import glob, subprocess, pickle\n",
    "import pandas as pd\n",
    "from tqdm import tqdm"
   ]
  },
  {
   "cell_type": "markdown",
   "id": "7fdb117d-715e-4072-9880-3b5bebc44c16",
   "metadata": {},
   "source": [
    "# Protein and ligand structure sources"
   ]
  },
  {
   "cell_type": "code",
   "execution_count": 2,
   "id": "ebd13ec0-488b-4d8e-9029-05dc9b90947a",
   "metadata": {},
   "outputs": [],
   "source": [
    "# 1. Obtain and process co-crystal structures \n",
    "# In this work, we used three proteins as examples, i.e. CDK2, FXA and HSP90\n",
    "# We used the attached jupyter notebook from the work of 'Ricci-Lopez, Joel, et al. \n",
    "# \"Improving structure-based virtual screening with ensemble docking and machine learning.\" \n",
    "# Journal of Chemical Information and Modeling 61.11 (2021): 5362-5376.'\n",
    "# These jupyter notebooks could be found in https://github.com/jRicciL/ML-ensemble-docking\n",
    "# For example, for CDK2, jupyter notebooks in cdk2/1_Download_and_prepare_protein_ensembles/ \n",
    "# were used. Then we copied the pdb_structures/pdb_prepared/ and pdb_structures/pocket_ligand/\n",
    "# for further processes.\n",
    "\n",
    "# 2. Obtain virtual screening ligands\n",
    "# For fair method comparison, we used the datasets documented in\n",
    "# 2_Molecular_libraries/datasets/ from Ricci-Lopez, Joel, et al.\n",
    "# Specifically, the original DUDE and Dekois2 datasets contained \n",
    "# 3D structures of the ligands, while CSAR dataset of CDK2 only \n",
    "# contained SMILES. So we generated 3D structures for them \n",
    "# using openbabel."
   ]
  },
  {
   "cell_type": "code",
   "execution_count": 3,
   "id": "3fbb4f2c-dbfd-4b80-b37f-f26ab52813c4",
   "metadata": {},
   "outputs": [
    {
     "name": "stdout",
     "output_type": "stream",
     "text": [
      "CDK2\n",
      "    The number of protein is 10\n",
      "    The number of cocrystal ligand is 10\n",
      "    The number of dude ligand is 10\n",
      "    The number of dekois ligand is 10\n",
      "    The number of csar ligand is 10\n",
      "FXA\n",
      "    The number of protein is 10\n",
      "    The number of cocrystal ligand is 10\n",
      "    The number of dude ligand is 10\n",
      "    The number of dekois ligand is 10\n",
      "HSP90\n",
      "    The number of protein is 10\n",
      "    The number of cocrystal ligand is 10\n",
      "    The number of dude ligand is 10\n",
      "    The number of dekois ligand is 10\n"
     ]
    }
   ],
   "source": [
    "# data view\n",
    "for pro in ['CDK2', 'FXA', 'HSP90']:\n",
    "    l_pro = [x for x in glob.glob(f'{pro}/pdb_raw/*.pdb')]\n",
    "    l_lig = [x for x in glob.glob(f'{pro}/cocry_dataset/*.pdb')]\n",
    "    l_dude = [x for x in glob.glob(f'{pro}/dude_dataset/*.sdf')]\n",
    "    l_dekois = [x for x in glob.glob(f'{pro}/dekois2_dataset/*.sdf')]\n",
    "    print(pro)\n",
    "    print(f'    The number of protein is {len(l_pro)}')\n",
    "    print(f'    The number of cocrystal ligand is {len(l_lig)}')\n",
    "    print(f'    The number of dude ligand is {len(l_dude)}')\n",
    "    print(f'    The number of dekois ligand is {len(l_dekois)}')\n",
    "    if pro == 'CDK2':\n",
    "        l_csar = [x for x in glob.glob(f'{pro}/csar_dataset/*.sdf')]\n",
    "        print(f'    The number of csar ligand is {len(l_csar)}')"
   ]
  },
  {
   "cell_type": "markdown",
   "id": "344aa783-0b7d-435f-a946-a1ad00e773e2",
   "metadata": {},
   "source": [
    "# Protein structure preparation"
   ]
  },
  {
   "cell_type": "code",
   "execution_count": 4,
   "id": "67b7b7b2-b0ea-40b6-8ae7-3b7fab293568",
   "metadata": {},
   "outputs": [],
   "source": [
    "from process_pdb import process_pdb\n",
    "import pymol\n",
    "from pymol import cmd\n",
    "from pymol_center_of_mass import get_com"
   ]
  },
  {
   "cell_type": "code",
   "execution_count": 5,
   "id": "b9db51c5-73d6-429e-8fe2-7c980b5c03b1",
   "metadata": {},
   "outputs": [],
   "source": [
    "# change the unatural amino acids to standard ones and \n",
    "# save the pdbs to new pdbs. Get the secondary structure \n",
    "# fragments for the proteins.\n",
    "\n",
    "for pdb in ['CDK2', 'FXA', 'HSP90']:\n",
    "    subprocess.run(f'mkdir {pdb}/pdb_processed/'.split(' '))\n",
    "    l_pro = sorted([x for x in glob.glob(f'{pdb}/pdb_raw/*.pdb')])\n",
    "    for path in l_pro:\n",
    "        PDB = path.split('/')[-1].split('_')[0]\n",
    "        process_pdb(path, PDB, f'{pdb}/pdb_processed/')\n",
    "\n",
    "# we then calculate the center of mass based on aligned ligands\n",
    "# using the pymol script from http://www.pymolwiki.org/index.php/center_of_mass\n",
    "\n",
    "for pdb in ['CDK2', 'FXA', 'HSP90']:\n",
    "    l_lig = [x for x in glob.glob(f'{pdb}/cocry_dataset/*.pdb')]\n",
    "    for i in l_lig:\n",
    "        cmd.load(i, i)\n",
    "        com = get_com('all')\n",
    "        f = open(f'{pdb}/center.txt','w')\n",
    "        f.write(f'X,{com[0]}\\nY,{com[1]}\\nZ,{com[2]}')\n",
    "        f.close()\n",
    "        cmd.delete('all')"
   ]
  },
  {
   "cell_type": "code",
   "execution_count": 6,
   "id": "294e04e8-f4eb-4c4a-ab6d-c5e69c5ab149",
   "metadata": {},
   "outputs": [],
   "source": [
    "%%bash\n",
    "# we used 1fin for CDK2, 1ezq for FXA, and 1uyg for HSP90 as examples.\n",
    "cp CDK2/pdb_processed/1fin.pdb CDK2/\n",
    "cp CDK2/cocry_dataset/1fin_ATP_LIG.pdb CDK2/\n",
    "cp FXA/pdb_processed/1ezq.pdb FXA/\n",
    "cp FXA/cocry_dataset/1ezq_RPR_LIG.pdb FXA/\n",
    "cp HSP90/pdb_processed/1uyg.pdb HSP90/\n",
    "cp HSP90/cocry_dataset/1uyg_PU2_LIG.pdb HSP90/"
   ]
  },
  {
   "cell_type": "code",
   "execution_count": 7,
   "id": "efe69ef5-a906-4b88-afd9-5d83486d7448",
   "metadata": {},
   "outputs": [],
   "source": [
    "ref_lig_map = {'CDK2':'1fin', 'FXA': '1ezq', 'HSP90': '1uyg'}"
   ]
  },
  {
   "cell_type": "markdown",
   "id": "dfe87e87-0713-4c84-b6d9-db8385f78639",
   "metadata": {},
   "source": [
    "## Ligand preparation"
   ]
  },
  {
   "cell_type": "code",
   "execution_count": 8,
   "id": "d96c1c7f-740e-4d63-a752-b8cbed397bad",
   "metadata": {},
   "outputs": [],
   "source": [
    "from process_ligand import prelig4swiss, batch_rotatable_bonds"
   ]
  },
  {
   "cell_type": "code",
   "execution_count": 9,
   "id": "50be525c-9ca4-4389-b445-55af1b68f109",
   "metadata": {},
   "outputs": [],
   "source": [
    "# dock the ligands from different datasets to the reference protein targets\n",
    "# we used smina for docking and recommended to run the docking processes \n",
    "# in parallel in shell.\n",
    "\n",
    "for pdb in ['CDK2', 'FXA', 'HSP90']:\n",
    "    ligs = sorted([x for x in glob.glob(f'{pdb}/dekois2_dataset/*.sdf')]+\n",
    "                  [x for x in glob.glob(f'{pdb}/dude_dataset/*.sdf')]+\n",
    "                  [x for x in glob.glob(f'{pdb}/csar_dataset/*.sdf')]+\n",
    "                  [x for x in glob.glob(f'{pdb}/cocry_dataset/*.pdb')])\n",
    "    dock_txt = open(f'{pdb}/docking.txt','w')\n",
    "    subprocess.run(f'mkdir {pdb}/ligand_docked/'.split(' '))\n",
    "    for i in ligs:\n",
    "        lig = i\n",
    "        ref_lig = [x for x in glob.glob(f'{pdb}/*.pdb') if 'LIG' in x][0]\n",
    "        ref_pro = [x for x in glob.glob(f'{pdb}/*.pdb') if 'LIG' not in x][0]\n",
    "        out = lig.split('/')[-2].split('_')[0]+'_'\\\n",
    "             +lig.split('/')[-1].replace('.sdf','_docking.sdf').replace('.pdb','_docking.sdf')\n",
    "        s = f\"smina -r {ref_pro} -l {lig} -o {pdb}/ligand_docked/{out}\\\n",
    "              --autobox_ligand={ref_lig} \\\n",
    "              --scoring=vinardo --factor=100 --num_modes=3\\\n",
    "              --exhaustiveness=16\\n\"\n",
    "        dock_txt.write(s)\n",
    "    dock_txt.close()"
   ]
  },
  {
   "cell_type": "code",
   "execution_count": 10,
   "id": "e640760b-4e91-4f74-87c0-427d04037e34",
   "metadata": {},
   "outputs": [],
   "source": [
    "# we split the docked ligands\n",
    "# if the ligands come form cocrystal set, we kept the top three conformation\n",
    "# else we kept the top one conformation.\n",
    "\n",
    "for pdb in ['CDK2', 'FXA', 'HSP90']:\n",
    "    l = sorted([x for x in glob.glob(f'{pdb}/ligand_docked/*_docking.sdf')])\n",
    "    f = open(f'{pdb}/spliting.txt','w')\n",
    "    for i in l:\n",
    "        if 'cocry' in i:\n",
    "            j = i.replace('docking.sdf', f'dock_{ref_lig_map[pdb]}_.sdf')\n",
    "            s = f'obabel -isdf {i} -l 3 -O {j} -m\\n'\n",
    "            f.write(s)\n",
    "        else:\n",
    "            j = i.replace('docking.sdf', f'dock_{ref_lig_map[pdb]}_1.sdf')\n",
    "            s = f'obabel -isdf {i} -l 1 -O {j}\\n'\n",
    "            f.write(s)\n",
    "    f.close()"
   ]
  },
  {
   "cell_type": "code",
   "execution_count": 11,
   "id": "4c1d7742-5772-4cca-aa07-b44957d411c2",
   "metadata": {},
   "outputs": [
    {
     "name": "stderr",
     "output_type": "stream",
     "text": [
      "100%|██████████| 60/60 [00:19<00:00, 76.08it/s] "
     ]
    }
   ],
   "source": [
    "# hydrogens were adding to the ligands with pymol.\n",
    "# ligand are saved to mol2 file and the atom number are added\n",
    "\n",
    "for pdb in ['CDK2', 'FXA', 'HSP90']:\n",
    "    l = sorted([x for x in glob.glob(f'{pdb}/ligand_docked/*_dock_{ref_lig_map[pdb]}_*.sdf')])\n",
    "    subprocess.run(f'mkdir {pdb}/ligand_processed/'.split(' '))\n",
    "    pbar = tqdm(total = len(l), leave = True, position = 0)\n",
    "    for lig in l:\n",
    "        out = lig.replace('ligand_docked', 'ligand_processed').replace('.sdf','.mol2')\n",
    "        prelig4swiss(lig, out)\n",
    "        pbar.update(1)"
   ]
  },
  {
   "cell_type": "code",
   "execution_count": 12,
   "id": "d5e0551b-c5f4-433d-a6f7-9c105e70157f",
   "metadata": {},
   "outputs": [],
   "source": [
    "# prepare the rotatable bond information for the ligands\n",
    "for pdb in ['CDK2', 'FXA', 'HSP90']:\n",
    "    batch_rotatable_bonds(f'{pdb}/ligand_processed/')"
   ]
  },
  {
   "cell_type": "code",
   "execution_count": null,
   "id": "3012b208-abb8-48f1-8846-2cd915a49e6f",
   "metadata": {},
   "outputs": [],
   "source": []
  }
 ],
 "metadata": {
  "kernelspec": {
   "display_name": "Python 3",
   "language": "python",
   "name": "python3"
  },
  "language_info": {
   "codemirror_mode": {
    "name": "ipython",
    "version": 3
   },
   "file_extension": ".py",
   "mimetype": "text/x-python",
   "name": "python",
   "nbconvert_exporter": "python",
   "pygments_lexer": "ipython3",
   "version": "3.9.6"
  }
 },
 "nbformat": 4,
 "nbformat_minor": 5
}
